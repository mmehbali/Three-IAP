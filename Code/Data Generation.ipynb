{
 "cells": [
  {
   "cell_type": "code",
   "execution_count": null,
   "id": "271d71c1",
   "metadata": {},
   "outputs": [],
   "source": [
    "import numpy as np\n",
    "\n",
    "size = 55\n",
    "\n",
    "for i in range(1,6):\n",
    "    values = list(np.random.choice(range(0, 1000), size**3))\n",
    "    #values = ','.join(str(x) for x in values)\n",
    "    file = open('C:\\\\Users\\\\mehbalim\\\\Desktop\\\\Temp Sep 2021\\\\Random Sample\\\\Rand_3IAP_n'+str(size)+'_instance' +str(i)+ '.txt','w')\n",
    "    for item in values:\n",
    "        file.write(str(item)+\"\\n\")\n",
    "    file.close()\n",
    "\n",
    "    "
   ]
  },
  {
   "cell_type": "code",
   "execution_count": null,
   "id": "f4c16349",
   "metadata": {},
   "outputs": [],
   "source": []
  }
 ],
 "metadata": {
  "kernelspec": {
   "display_name": "Python 3 (ipykernel)",
   "language": "python",
   "name": "python3"
  },
  "language_info": {
   "codemirror_mode": {
    "name": "ipython",
    "version": 3
   },
   "file_extension": ".py",
   "mimetype": "text/x-python",
   "name": "python",
   "nbconvert_exporter": "python",
   "pygments_lexer": "ipython3",
   "version": "3.9.7"
  }
 },
 "nbformat": 4,
 "nbformat_minor": 5
}
