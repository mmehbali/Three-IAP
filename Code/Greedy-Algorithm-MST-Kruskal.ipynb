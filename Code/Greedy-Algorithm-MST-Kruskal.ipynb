{
 "cells": [
  {
   "cell_type": "code",
   "execution_count": null,
   "id": "c51c1c30",
   "metadata": {},
   "outputs": [],
   "source": [
    "n = 5\n",
    "# Example usage:\n",
    "# n = number of vertices\n",
    "# edges = list of edges in the form (u, v, weight)\n",
    "edges = [\n",
    "    (0, 1, 2),\n",
    "    (0, 2, 1),\n",
    "    (0, 3, 5),\n",
    "    (0, 4, 1),\n",
    "    (1, 2, 3),\n",
    "    (1, 3, 4),\n",
    "    (1, 4, 3),\n",
    "    (2, 3, 4),\n",
    "    (2, 4, 2),\n",
    "    (3, 4, 5),\n",
    "]"
   ]
  },
  {
   "cell_type": "code",
   "execution_count": 1,
   "id": "a16da402",
   "metadata": {},
   "outputs": [],
   "source": [
    "parent = list(range(n))\n",
    "rank = [0] * n\n",
    "\n",
    "# Implements the union-find data structure with path compression and union by \n",
    "# rank to efficiently manage the connected components.\n",
    "\n",
    "def find(u):\n",
    "    \"\"\"Finds the root of the set containing u and applies path compression.\"\"\"\n",
    "    if parent[u] != u:\n",
    "        parent[u] = find(parent[u])\n",
    "    return parent[u]\n",
    "\n",
    "def union(u, v):\n",
    "    \"\"\"Unites the sets containing u and v using union by rank.\"\"\"\n",
    "    root_u = find(u)\n",
    "    root_v = find(v)\n",
    "    if root_u != root_v:\n",
    "        if rank[root_u] > rank[root_v]:\n",
    "            parent[root_v] = root_u\n",
    "        elif rank[root_u] < rank[root_v]:\n",
    "            parent[root_u] = root_v\n",
    "        else:\n",
    "            parent[root_v] = root_u\n",
    "            rank[root_u] += 1\n",
    "\n",
    "def kruskal(n, edges):\n",
    "    \"\"\"\n",
    "    This function implements Kruskal's algorithm to find the MST.\n",
    "    Sorting: Sorts all edges by their weight.\n",
    "    Union-Find: Uses the union-find data structure to ensure no cycles are formed and to manage the connected components.\n",
    "    MST Construction: Adds edges to the MST as long as they don't form a cycle (checked using the union-find structure).\n",
    "    \"\"\"\n",
    "    edges.sort(key=lambda edge: edge[2])\n",
    "    mst = []\n",
    "    mst_cost = 0\n",
    "\n",
    "    for u, v, weight in edges:\n",
    "        if find(u) != find(v):\n",
    "            union(u, v)\n",
    "            mst.append((u, v, weight))\n",
    "            mst_cost += weight\n",
    "\n",
    "    return mst, mst_cost\n",
    "\n"
   ]
  },
  {
   "cell_type": "code",
   "execution_count": 2,
   "id": "c7b94d3a",
   "metadata": {},
   "outputs": [
    {
     "name": "stdout",
     "output_type": "stream",
     "text": [
      "Edges in MST: [(0, 2, 1), (0, 4, 1), (0, 1, 2), (1, 3, 4)]\n",
      "Total cost of MST: 8\n"
     ]
    }
   ],
   "source": [
    "mst, mst_cost = kruskal(n, edges)\n",
    "print(\"Edges in MST:\", mst)\n",
    "print(\"Total cost of MST:\", mst_cost)"
   ]
  },
  {
   "cell_type": "code",
   "execution_count": null,
   "id": "c9ff87aa",
   "metadata": {},
   "outputs": [],
   "source": []
  }
 ],
 "metadata": {
  "kernelspec": {
   "display_name": "Python 3 (ipykernel)",
   "language": "python",
   "name": "python3"
  },
  "language_info": {
   "codemirror_mode": {
    "name": "ipython",
    "version": 3
   },
   "file_extension": ".py",
   "mimetype": "text/x-python",
   "name": "python",
   "nbconvert_exporter": "python",
   "pygments_lexer": "ipython3",
   "version": "3.9.7"
  }
 },
 "nbformat": 4,
 "nbformat_minor": 5
}
