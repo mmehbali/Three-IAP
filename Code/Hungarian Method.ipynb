{
 "cells": [
  {
   "cell_type": "code",
   "execution_count": 43,
   "id": "6ca9e5f3",
   "metadata": {},
   "outputs": [],
   "source": [
    "import numpy as np\n",
    "\n",
    "import math\n",
    "import random\n",
    "\n",
    "from scipy.optimize import linear_sum_assignment\n",
    "\n",
    "global arr, tables, Total, factnb"
   ]
  },
  {
   "cell_type": "code",
   "execution_count": 44,
   "id": "83e5e792",
   "metadata": {},
   "outputs": [],
   "source": [
    "# Make sure the number of values in your text file is a squared number (e.g. 25, 36, 81, 100 etc)\n",
    "# Also, the file should have one entry per line.\n",
    "# This file has an example of 121 entries, the user is free to change the values and the size of the file.\n",
    "\n",
    "file_name = r\"C:\\Users\\mehbalim\\Desktop\\sample_data_for_hungarian_method.txt\"\n",
    "\n",
    "a = np.loadtxt(file_name)\n",
    "a = list(a)\n",
    "a = [int(i) for i in a]\n",
    "\n",
    "b = len(a)\n",
    "n = math.pow(b, 1./2.)\n",
    "\n",
    "if type(n) != \"int\":\n",
    "    n = math.ceil(n)\n",
    "    \n",
    "num_list = []\n",
    "\n",
    "for x in a:\n",
    "    x = int(x)\n",
    "    num_list.append(x)"
   ]
  },
  {
   "cell_type": "code",
   "execution_count": 45,
   "id": "039a9c02",
   "metadata": {},
   "outputs": [
    {
     "name": "stdout",
     "output_type": "stream",
     "text": [
      "This is the input data matrix:\n",
      "[[27  1  3 51 72 30  6 15 71 28 42]\n",
      " [29 83 24 53 90 55  2 18 64 23 45]\n",
      " [31 90 39 45 40 60 40 48 18 88  5]\n",
      " [23 42 76 80 13 96 69 30 19 22 47]\n",
      " [24 46 91 39 55 14 28 11 13 33 95]\n",
      " [21 63  1 85 11 45 67 21 20 31  7]\n",
      " [41 87 46 22 68 39 73 80 96 65 60]\n",
      " [18 75 34 76 77 76 22 45 98 30 29]\n",
      " [36 64 63 95 78 38 46 87 79 63 79]\n",
      " [46 41 55 92 73 35  5 25 24  2 82]\n",
      " [31 37 65 90  9 82 51 32 16 79 53]] \n",
      "\n",
      "Hungarian method solution for this matrix is:\n",
      "[ 1  2  5 19 11  1 22 18 38  2  9]\n",
      "Index values in the data matrix:\n",
      "[[0, 1], [1, 6], [2, 10], [3, 8], [4, 7], [5, 2], [6, 3], [7, 0], [8, 5], [9, 9], [10, 4]] \n",
      "\n",
      "Total cost = 128\n"
     ]
    }
   ],
   "source": [
    "# Simple Hungarian Method for 2D Assignment problem.\n",
    "# Reading an internal data list of size n^2 data.\n",
    "\n",
    "\n",
    "factory =[]\n",
    "m = n*n\n",
    "for j in range(n):\n",
    "    lb=j*m\n",
    "    ub=(j+1)*m \n",
    "    factory = factory + num_list[lb:ub]\n",
    "\n",
    "factories = [factory[j:j+m] for j in range(0, len(factory), m)]\n",
    "    \n",
    "global arr, tables, Total, factnb\n",
    "\n",
    "tables = factories\n",
    "\n",
    "def select_One_minimum(matrix):\n",
    "\n",
    "    row_ind, col_ind = linear_sum_assignment(matrix)\n",
    "    cost_list = matrix[(row_ind, col_ind)]\n",
    "\n",
    "    print(\"Hungarian method solution for this matrix is:\") \n",
    "    print(cost_list)\n",
    "\n",
    "    minlyst=[]\n",
    "    for i in range(k):\n",
    "        minlyst.append([row_ind[i], col_ind[i]])\n",
    "    print(\"Positions in the data matrix:\")\n",
    "    print(minlyst, '\\n')\n",
    "    print(\"Total cost =\", matrix[row_ind, col_ind].sum())\n",
    "    \n",
    "k=n\n",
    "factnb=-1\n",
    "newT = []\n",
    "#print(a, '\\n')\n",
    "\n",
    "arr=np.asarray(a).reshape(k,k)\n",
    "arr = np.array(arr)\n",
    "print(\"This is the input data matrix:\")\n",
    "print(arr, '\\n')\n",
    "select_One_minimum(arr)\n",
    "#factnb=factnb+1       \n",
    "#new_table=[]\n"
   ]
  },
  {
   "cell_type": "code",
   "execution_count": null,
   "id": "a6e233cf",
   "metadata": {},
   "outputs": [],
   "source": []
  }
 ],
 "metadata": {
  "kernelspec": {
   "display_name": "Python 3 (ipykernel)",
   "language": "python",
   "name": "python3"
  },
  "language_info": {
   "codemirror_mode": {
    "name": "ipython",
    "version": 3
   },
   "file_extension": ".py",
   "mimetype": "text/x-python",
   "name": "python",
   "nbconvert_exporter": "python",
   "pygments_lexer": "ipython3",
   "version": "3.9.7"
  }
 },
 "nbformat": 4,
 "nbformat_minor": 5
}
